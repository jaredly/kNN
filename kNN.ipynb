{
 "metadata": {
  "name": ""
 },
 "nbformat": 3,
 "nbformat_minor": 0,
 "worksheets": [
  {
   "cells": [
    {
     "cell_type": "code",
     "collapsed": false,
     "input": [
      "from scipy.io.arff import loadarff"
     ],
     "language": "python",
     "metadata": {},
     "outputs": [],
     "prompt_number": 2
    },
    {
     "cell_type": "code",
     "collapsed": false,
     "input": [
      "data, meta = loadarff('./mt_test.arff')"
     ],
     "language": "python",
     "metadata": {},
     "outputs": [],
     "prompt_number": 3
    },
    {
     "cell_type": "code",
     "collapsed": false,
     "input": [
      "meta"
     ],
     "language": "python",
     "metadata": {},
     "outputs": [
      {
       "metadata": {},
       "output_type": "pyout",
       "prompt_number": 4,
       "text": [
        "Dataset: Untitled\n",
        "\tfLength:'s type is numeric\n",
        "\tfWidth:'s type is numeric\n",
        "\tfSize:'s type is numeric\n",
        "\tfConc:'s type is numeric\n",
        "\tfConc1:'s type is numeric\n",
        "\tfAsym:'s type is numeric\n",
        "\tfM3Long:'s type is numeric\n",
        "\tfM3Trans:'s type is numeric\n",
        "\tfAlpha:'s type is numeric\n",
        "\tfDist:'s type is numeric\n",
        "\tclass:'s type is nominal, range is ('g', 'h')\n"
       ]
      }
     ],
     "prompt_number": 4
    },
    {
     "cell_type": "code",
     "collapsed": false,
     "input": [
      "meta['fLength:']"
     ],
     "language": "python",
     "metadata": {},
     "outputs": [
      {
       "metadata": {},
       "output_type": "pyout",
       "prompt_number": 5,
       "text": [
        "('numeric', None)"
       ]
      }
     ],
     "prompt_number": 5
    },
    {
     "cell_type": "raw",
     "metadata": {},
     "source": [
      "478/kNN \u2039master*\u203a \u00bb ./kNN.py --k=3            \n",
      "testing\n",
      "valid\n",
      "3.22020506859\n",
      "doneval\n",
      "2314 6666\n",
      "0.347134713471\n",
      "Time 19.4198560715\n",
      "478/kNN \u2039master*\u203a \u00bb ./kNN.py --normalize --k=3\n",
      "testing\n",
      "valid\n",
      "3.18687701225\n",
      "doneval\n",
      "2459 6666\n",
      "0.368886888689\n",
      "Time 18.8793308735"
     ]
    },
    {
     "cell_type": "code",
     "collapsed": false,
     "input": [
      "from kNN import main\n",
      "import kNN\n",
      "reload(kNN)"
     ],
     "language": "python",
     "metadata": {},
     "outputs": [
      {
       "metadata": {},
       "output_type": "pyout",
       "prompt_number": 17,
       "text": [
        "<module 'kNN' from 'kNN.py'>"
       ]
      }
     ],
     "prompt_number": 17
    },
    {
     "cell_type": "code",
     "collapsed": false,
     "input": [
      "errs = {}\n",
      "for i in range(1,17,2):\n",
      "    print 'at', i\n",
      "    errs[i] = kNN.main(k=i, normalize=True, distance=False)"
     ],
     "language": "python",
     "metadata": {},
     "outputs": [
      {
       "output_type": "stream",
       "stream": "stdout",
       "text": [
        "at 1\n",
        "testing"
       ]
      },
      {
       "output_type": "stream",
       "stream": "stdout",
       "text": [
        "\n",
        "valid\n",
        "3.05184984207"
       ]
      },
      {
       "output_type": "stream",
       "stream": "stdout",
       "text": [
        "\n",
        "doneval\n",
        "1267"
       ]
      },
      {
       "output_type": "stream",
       "stream": "stdout",
       "text": [
        " 6666\n",
        "Err:"
       ]
      },
      {
       "output_type": "stream",
       "stream": "stdout",
       "text": [
        " 0.190069006901 Acc: 0.809930993099\n",
        "Time 24.3092019558\n",
        "at 3\n",
        "testing"
       ]
      },
      {
       "output_type": "stream",
       "stream": "stdout",
       "text": [
        "\n",
        "valid\n",
        "3.04818081856"
       ]
      },
      {
       "output_type": "stream",
       "stream": "stdout",
       "text": [
        "\n",
        "doneval\n",
        "1130"
       ]
      },
      {
       "output_type": "stream",
       "stream": "stdout",
       "text": [
        " 6666\n",
        "Err:"
       ]
      },
      {
       "output_type": "stream",
       "stream": "stdout",
       "text": [
        " 0.169516951695 Acc: 0.830483048305\n",
        "Time 26.6951439381\n",
        "at 5\n",
        "testing"
       ]
      },
      {
       "output_type": "stream",
       "stream": "stdout",
       "text": [
        "\n",
        "valid\n",
        "3.0544128418"
       ]
      },
      {
       "output_type": "stream",
       "stream": "stdout",
       "text": [
        "\n",
        "doneval\n",
        "1045"
       ]
      },
      {
       "output_type": "stream",
       "stream": "stdout",
       "text": [
        " 6666\n",
        "Err:"
       ]
      },
      {
       "output_type": "stream",
       "stream": "stdout",
       "text": [
        " 0.156765676568 Acc: 0.843234323432\n",
        "Time 29.0023601055\n",
        "at 7\n",
        "testing"
       ]
      },
      {
       "output_type": "stream",
       "stream": "stdout",
       "text": [
        "\n",
        "valid\n",
        "3.05296802521"
       ]
      },
      {
       "output_type": "stream",
       "stream": "stdout",
       "text": [
        "\n",
        "doneval\n",
        "1052"
       ]
      },
      {
       "output_type": "stream",
       "stream": "stdout",
       "text": [
        " 6666\n",
        "Err:"
       ]
      },
      {
       "output_type": "stream",
       "stream": "stdout",
       "text": [
        " 0.157815781578 Acc: 0.842184218422\n",
        "Time 31.4499390125\n",
        "at 9\n",
        "testing"
       ]
      },
      {
       "output_type": "stream",
       "stream": "stdout",
       "text": [
        "\n",
        "valid\n",
        "3.05203604698"
       ]
      },
      {
       "output_type": "stream",
       "stream": "stdout",
       "text": [
        "\n",
        "doneval\n",
        "1032"
       ]
      },
      {
       "output_type": "stream",
       "stream": "stdout",
       "text": [
        " 6666\n",
        "Err:"
       ]
      },
      {
       "output_type": "stream",
       "stream": "stdout",
       "text": [
        " 0.154815481548 Acc: 0.845184518452\n",
        "Time 33.7530491352\n",
        "at 11\n",
        "testing"
       ]
      },
      {
       "output_type": "stream",
       "stream": "stdout",
       "text": [
        "\n",
        "valid\n",
        "3.0505759716"
       ]
      },
      {
       "output_type": "stream",
       "stream": "stdout",
       "text": [
        "\n",
        "doneval\n",
        "1027"
       ]
      },
      {
       "output_type": "stream",
       "stream": "stdout",
       "text": [
        " 6666\n",
        "Err:"
       ]
      },
      {
       "output_type": "stream",
       "stream": "stdout",
       "text": [
        " 0.154065406541 Acc: 0.845934593459\n",
        "Time 36.4208440781\n",
        "at 13\n",
        "testing"
       ]
      },
      {
       "output_type": "stream",
       "stream": "stdout",
       "text": [
        "\n",
        "valid\n",
        "3.05572199821"
       ]
      },
      {
       "output_type": "stream",
       "stream": "stdout",
       "text": [
        "\n",
        "doneval\n",
        "1041"
       ]
      },
      {
       "output_type": "stream",
       "stream": "stdout",
       "text": [
        " 6666\n",
        "Err:"
       ]
      },
      {
       "output_type": "stream",
       "stream": "stdout",
       "text": [
        " 0.156165616562 Acc: 0.843834383438\n",
        "Time 38.3674199581\n",
        "at 15\n",
        "testing"
       ]
      },
      {
       "output_type": "stream",
       "stream": "stdout",
       "text": [
        "\n",
        "valid\n",
        "3.05561184883"
       ]
      },
      {
       "output_type": "stream",
       "stream": "stdout",
       "text": [
        "\n",
        "doneval\n",
        "1042"
       ]
      },
      {
       "output_type": "stream",
       "stream": "stdout",
       "text": [
        " 6666\n",
        "Err:"
       ]
      },
      {
       "output_type": "stream",
       "stream": "stdout",
       "text": [
        " 0.156315631563 Acc: 0.843684368437\n",
        "Time 40.8706510067\n"
       ]
      }
     ],
     "prompt_number": 18
    },
    {
     "cell_type": "code",
     "collapsed": false,
     "input": [
      "errs"
     ],
     "language": "python",
     "metadata": {},
     "outputs": [
      {
       "metadata": {},
       "output_type": "pyout",
       "prompt_number": 19,
       "text": [
        "{1: 0.19006900690069006,\n",
        " 3: 0.1695169516951695,\n",
        " 5: 0.15676567656765678,\n",
        " 7: 0.15781578157815782,\n",
        " 9: 0.1548154815481548,\n",
        " 11: 0.15406540654065407,\n",
        " 13: 0.15616561656165617,\n",
        " 15: 0.1563156315631563}"
       ]
      }
     ],
     "prompt_number": 19
    },
    {
     "cell_type": "code",
     "collapsed": false,
     "input": [
      "reload(kNN)\n",
      "errs = kNN.main(k=1, normalize=True, distance=True, ks=range(3,17,2))"
     ],
     "language": "python",
     "metadata": {},
     "outputs": [
      {
       "output_type": "stream",
       "stream": "stdout",
       "text": [
        "valid\n",
        "3.05345821381"
       ]
      },
      {
       "output_type": "stream",
       "stream": "stdout",
       "text": [
        "\n",
        "doneval\n",
        "testing [1]\n",
        "1267"
       ]
      },
      {
       "output_type": "stream",
       "stream": "stdout",
       "text": [
        " 6666\n",
        "Err: 0.190069006901 Acc: 0.809930993099\n",
        "Time 24.9239249229\n",
        "testing\n",
        "1122"
       ]
      },
      {
       "output_type": "stream",
       "stream": "stdout",
       "text": [
        " 6666\n",
        "Err: 0.168316831683 Acc: 0.831683168317\n",
        "Time 27.498554945\n",
        "testing\n",
        "1034"
       ]
      },
      {
       "output_type": "stream",
       "stream": "stdout",
       "text": [
        " 6666\n",
        "Err: 0.155115511551 Acc: 0.844884488449\n",
        "Time 30.3021509647\n",
        "testing\n",
        "1000"
       ]
      },
      {
       "output_type": "stream",
       "stream": "stdout",
       "text": [
        " 6666\n",
        "Err: 0.1500150015 Acc: 0.8499849985\n",
        "Time 32.987197876\n",
        "testing\n",
        "1013"
       ]
      },
      {
       "output_type": "stream",
       "stream": "stdout",
       "text": [
        " 6666\n",
        "Err: 0.15196519652 Acc: 0.84803480348\n",
        "Time 35.815237999\n",
        "testing\n",
        "991"
       ]
      },
      {
       "output_type": "stream",
       "stream": "stdout",
       "text": [
        " 6666\n",
        "Err: 0.148664866487 Acc: 0.851335133513\n",
        "Time 38.5386710167\n",
        "testing\n",
        "996"
       ]
      },
      {
       "output_type": "stream",
       "stream": "stdout",
       "text": [
        " 6666\n",
        "Err: 0.149414941494 Acc: 0.850585058506\n",
        "Time 41.2806489468\n",
        "testing\n",
        "994"
       ]
      },
      {
       "output_type": "stream",
       "stream": "stdout",
       "text": [
        " 6666\n",
        "Err: 0.149114911491 Acc: 0.850885088509\n",
        "Time 44.0546951294\n"
       ]
      }
     ],
     "prompt_number": 22
    },
    {
     "cell_type": "code",
     "collapsed": false,
     "input": [
      "errs\n"
     ],
     "language": "python",
     "metadata": {},
     "outputs": [
      {
       "metadata": {},
       "output_type": "pyout",
       "prompt_number": 23,
       "text": [
        "{1: 0.19006900690069006,\n",
        " 3: 0.16831683168316833,\n",
        " 5: 0.1551155115511551,\n",
        " 7: 0.15001500150015,\n",
        " 9: 0.15196519651965196,\n",
        " 11: 0.14866486648664867,\n",
        " 13: 0.1494149414941494,\n",
        " 15: 0.1491149114911491}"
       ]
      }
     ],
     "prompt_number": 23
    },
    {
     "cell_type": "code",
     "collapsed": false,
     "input": [
      "for x in errs:print x, 1-errs[x]"
     ],
     "language": "python",
     "metadata": {},
     "outputs": [
      {
       "output_type": "stream",
       "stream": "stdout",
       "text": [
        "1 0.809930993099\n",
        "3 0.831683168317\n",
        "5 0.844884488449\n",
        "7 0.8499849985\n",
        "9 0.84803480348\n",
        "11 0.851335133513\n",
        "13 0.850585058506\n",
        "15 0.850885088509\n"
       ]
      }
     ],
     "prompt_number": 25
    },
    {
     "cell_type": "code",
     "collapsed": false,
     "input": [
      "kNN.main(k=100, normalize=True, distance=True)"
     ],
     "language": "python",
     "metadata": {},
     "outputs": [
      {
       "output_type": "stream",
       "stream": "stdout",
       "text": [
        "valid\n",
        "3.04763102531"
       ]
      },
      {
       "output_type": "stream",
       "stream": "stdout",
       "text": [
        "\n",
        "doneval\n",
        "testing [100]\n",
        "1112"
       ]
      },
      {
       "output_type": "stream",
       "stream": "stdout",
       "text": [
        " 6666\n",
        "Err: 0.166816681668 Acc: 0.833183318332\n",
        "Time 161.768634796\n"
       ]
      },
      {
       "metadata": {},
       "output_type": "pyout",
       "prompt_number": 26,
       "text": [
        "0.16681668166816682"
       ]
      }
     ],
     "prompt_number": 26
    },
    {
     "cell_type": "code",
     "collapsed": false,
     "input": [],
     "language": "python",
     "metadata": {},
     "outputs": []
    }
   ],
   "metadata": {}
  }
 ]
}